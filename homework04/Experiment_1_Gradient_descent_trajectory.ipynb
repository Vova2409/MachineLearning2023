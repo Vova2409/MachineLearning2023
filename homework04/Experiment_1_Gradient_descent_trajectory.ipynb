{
 "cells": [
  {
   "cell_type": "markdown",
   "id": "2dbc3fb9",
   "metadata": {},
   "source": [
    "Для анализа траектории градиентного спуска на квадратичных функциях, создадим несколько квадратичных функций с различными матрицами \\(A\\) и векторами \\(b\\). После этого, для каждой функции, запустим градиентный спуск с разными начальными точками и стратегиями выбора шага. Наконец, визуализируем траектории градиентного спуска на графиках с линиями уровня функций.\n",
    "\n",
    "Для начала, создадим три квадратичные функции с разными матрицами \\(A\\) и векторами \\(b\\):\n",
    "\n",
    "1. \\(f(x) = \\frac{1}{2} \\langle A_1x, x \\rangle - \\langle b_1, x \\rangle\\)\n",
    "2. \\(f(x) = \\frac{1}{2} \\langle A_2x, x \\rangle - \\langle b_2, x \\rangle\\)\n",
    "3. \\(f(x) = \\frac{1}{2} \\langle A_3x, x \\rangle - \\langle b_3, x \\rangle\\)\n",
    "\n",
    "Для каждой из этих функций запустим градиентный спуск с разными начальными точками и стратегиями выбора шага. Затем построим графики с линиями уровня функций и траекториями градиентного спуска.\n",
    "\n",
    "Для начала, определим функции \\(A\\), \\(b\\) и создадим объекты `QuadraticOracle` для каждой функции:"
   ]
  },
  {
   "cell_type": "code",
   "execution_count": 1,
   "id": "ee4f38e0",
   "metadata": {},
   "outputs": [
    {
     "ename": "ModuleNotFoundError",
     "evalue": "No module named 'numpy'",
     "output_type": "error",
     "traceback": [
      "\u001b[0;31m---------------------------------------------------------------------------\u001b[0m",
      "\u001b[0;31mModuleNotFoundError\u001b[0m                       Traceback (most recent call last)",
      "\u001b[1;32m/Users/airataizhanov/Desktop/RUDN/PZ4/homework-practice-04-Optimization_in_ML/Experiment_1_Gradient_descent_trajectory.ipynb Ячейка 2\u001b[0m line \u001b[0;36m1\n\u001b[0;32m----> <a href='vscode-notebook-cell:/Users/airataizhanov/Desktop/RUDN/PZ4/homework-practice-04-Optimization_in_ML/Experiment_1_Gradient_descent_trajectory.ipynb#W1sZmlsZQ%3D%3D?line=0'>1</a>\u001b[0m \u001b[39mimport\u001b[39;00m \u001b[39mnumpy\u001b[39;00m \u001b[39mas\u001b[39;00m \u001b[39mnp\u001b[39;00m\n\u001b[1;32m      <a href='vscode-notebook-cell:/Users/airataizhanov/Desktop/RUDN/PZ4/homework-practice-04-Optimization_in_ML/Experiment_1_Gradient_descent_trajectory.ipynb#W1sZmlsZQ%3D%3D?line=1'>2</a>\u001b[0m \u001b[39mfrom\u001b[39;00m \u001b[39moracles\u001b[39;00m \u001b[39mimport\u001b[39;00m QuadraticOracle\n\u001b[1;32m      <a href='vscode-notebook-cell:/Users/airataizhanov/Desktop/RUDN/PZ4/homework-practice-04-Optimization_in_ML/Experiment_1_Gradient_descent_trajectory.ipynb#W1sZmlsZQ%3D%3D?line=2'>3</a>\u001b[0m \u001b[39mfrom\u001b[39;00m \u001b[39moptimization\u001b[39;00m \u001b[39mimport\u001b[39;00m gradient_descent\n",
      "\u001b[0;31mModuleNotFoundError\u001b[0m: No module named 'numpy'"
     ]
    }
   ],
   "source": [
    "\n",
    "import numpy as np\n",
    "from oracles import QuadraticOracle\n",
    "from optimization import gradient_descent\n",
    "from plot_trajectory_2d import plot_levels, plot_trajectory\n",
    "\n",
    "# Функция 1\n",
    "A1 = np.array([[2, 0.5],\n",
    "               [0.5, 1]])\n",
    "b1 = np.array([1, 1])\n",
    "oracle1 = QuadraticOracle(A1, b1)\n",
    "\n",
    "# Функция 2\n",
    "A2 = np.array([[2, 0.8],\n",
    "               [0.8, 1]])\n",
    "b2 = np.array([-1, 2])\n",
    "oracle2 = QuadraticOracle(A2, b2)\n",
    "\n",
    "# Функция 3\n",
    "A3 = np.array([[3, 0],\n",
    "               [0, 1]])\n",
    "b3 = np.array([0, 0])\n",
    "oracle3 = QuadraticOracle(A3, b3)\n"
   ]
  },
  {
   "cell_type": "markdown",
   "id": "b794807b",
   "metadata": {},
   "source": [
    "Теперь запустим градиентный спуск для каждой функции с разными начальными точками и стратегиями выбора шага и построим графики с линиями уровня функций и траекториями градиентного спуска:"
   ]
  },
  {
   "cell_type": "code",
   "execution_count": 2,
   "id": "c5893008",
   "metadata": {},
   "outputs": [
    {
     "ename": "NameError",
     "evalue": "name 'np' is not defined",
     "output_type": "error",
     "traceback": [
      "\u001b[0;31m---------------------------------------------------------------------------\u001b[0m",
      "\u001b[0;31mNameError\u001b[0m                                 Traceback (most recent call last)",
      "\u001b[1;32m/Users/airataizhanov/Desktop/RUDN/PZ4/homework-practice-04-Optimization_in_ML/Experiment_1_Gradient_descent_trajectory.ipynb Ячейка 4\u001b[0m line \u001b[0;36m2\n\u001b[1;32m      <a href='vscode-notebook-cell:/Users/airataizhanov/Desktop/RUDN/PZ4/homework-practice-04-Optimization_in_ML/Experiment_1_Gradient_descent_trajectory.ipynb#W3sZmlsZQ%3D%3D?line=0'>1</a>\u001b[0m \u001b[39m# Начальные точки и стратегии выбора шага для каждой функции\u001b[39;00m\n\u001b[0;32m----> <a href='vscode-notebook-cell:/Users/airataizhanov/Desktop/RUDN/PZ4/homework-practice-04-Optimization_in_ML/Experiment_1_Gradient_descent_trajectory.ipynb#W3sZmlsZQ%3D%3D?line=1'>2</a>\u001b[0m starting_points \u001b[39m=\u001b[39m [np\u001b[39m.\u001b[39marray([\u001b[39m0\u001b[39m, \u001b[39m0\u001b[39m]), np\u001b[39m.\u001b[39marray([\u001b[39m2\u001b[39m, \u001b[39m2\u001b[39m]), np\u001b[39m.\u001b[39marray([\u001b[39m-\u001b[39m\u001b[39m1\u001b[39m, \u001b[39m-\u001b[39m\u001b[39m1\u001b[39m])]\n\u001b[1;32m      <a href='vscode-notebook-cell:/Users/airataizhanov/Desktop/RUDN/PZ4/homework-practice-04-Optimization_in_ML/Experiment_1_Gradient_descent_trajectory.ipynb#W3sZmlsZQ%3D%3D?line=2'>3</a>\u001b[0m line_search_options \u001b[39m=\u001b[39m [{\u001b[39m'\u001b[39m\u001b[39mmethod\u001b[39m\u001b[39m'\u001b[39m: \u001b[39m'\u001b[39m\u001b[39mConstant\u001b[39m\u001b[39m'\u001b[39m, \u001b[39m'\u001b[39m\u001b[39mc\u001b[39m\u001b[39m'\u001b[39m: \u001b[39m0.1\u001b[39m}, {\u001b[39m'\u001b[39m\u001b[39mmethod\u001b[39m\u001b[39m'\u001b[39m: \u001b[39m'\u001b[39m\u001b[39mArmijo\u001b[39m\u001b[39m'\u001b[39m, \u001b[39m'\u001b[39m\u001b[39mc1\u001b[39m\u001b[39m'\u001b[39m: \u001b[39m1e-4\u001b[39m}, {\u001b[39m'\u001b[39m\u001b[39mmethod\u001b[39m\u001b[39m'\u001b[39m: \u001b[39m'\u001b[39m\u001b[39mWolfe\u001b[39m\u001b[39m'\u001b[39m, \u001b[39m'\u001b[39m\u001b[39mc1\u001b[39m\u001b[39m'\u001b[39m: \u001b[39m1e-4\u001b[39m, \u001b[39m'\u001b[39m\u001b[39mc2\u001b[39m\u001b[39m'\u001b[39m: \u001b[39m0.9\u001b[39m}]\n\u001b[1;32m      <a href='vscode-notebook-cell:/Users/airataizhanov/Desktop/RUDN/PZ4/homework-practice-04-Optimization_in_ML/Experiment_1_Gradient_descent_trajectory.ipynb#W3sZmlsZQ%3D%3D?line=4'>5</a>\u001b[0m \u001b[39m# Запускаем градиентный спуск для каждой функции и строим графики\u001b[39;00m\n",
      "\u001b[0;31mNameError\u001b[0m: name 'np' is not defined"
     ]
    }
   ],
   "source": [
    "\n",
    "# Начальные точки и стратегии выбора шага для каждой функции\n",
    "starting_points = [np.array([0, 0]), np.array([2, 2]), np.array([-1, -1])]\n",
    "line_search_options = [{'method': 'Constant', 'c': 0.1}, {'method': 'Armijo', 'c1': 1e-4}, {'method': 'Wolfe', 'c1': 1e-4, 'c2': 0.9}]\n",
    "\n",
    "# Запускаем градиентный спуск для каждой функции и строим графики\n",
    "for i, (oracle, start_point, ls_options) in enumerate(zip([oracle1, oracle2, oracle3], starting_points, line_search_options), 1):\n",
    "    x_opt, _, _ = gradient_descent(oracle, start_point, line_search_options=ls_options)\n",
    "    levels = plot_levels(oracle.func, x_range=(-2, 3), y_range=(-2, 3))\n",
    "    plot_trajectory(x_opt, levels, title=f'Function {i}', save_name=f'function_{i}.png')\n"
   ]
  },
  {
   "cell_type": "markdown",
   "id": "93006a3c",
   "metadata": {},
   "source": [
    "\n",
    "\n",
    "\n",
    "В результате выполнения этого кода будут созданы графики с линиями уровня функций и траекториями градиентного спуска для каждой из трех функций. Пожалуйста, убедитесь, что у вас установлены необходимые библиотеки для выполнения этого кода (numpy, matplotlib и прочие)."
   ]
  }
 ],
 "metadata": {
  "kernelspec": {
   "display_name": "Python 3 (ipykernel)",
   "language": "python",
   "name": "python3"
  },
  "language_info": {
   "codemirror_mode": {
    "name": "ipython",
    "version": 3
   },
   "file_extension": ".py",
   "mimetype": "text/x-python",
   "name": "python",
   "nbconvert_exporter": "python",
   "pygments_lexer": "ipython3",
   "version": "3.9.12"
  }
 },
 "nbformat": 4,
 "nbformat_minor": 5
}

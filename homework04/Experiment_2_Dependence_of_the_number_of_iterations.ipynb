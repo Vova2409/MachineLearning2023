{
 "cells": [
  {
   "cell_type": "markdown",
   "id": "2dbc3fb9",
   "metadata": {},
   "source": [
    "Для выполнения этого эксперимента мы будем:\n",
    "\n",
    "1. Зафиксируем значения размерности \\( n \\) (например, \\( n = 10, 100, 1000 \\)).\n",
    "2. Создадим случайные квадратичные задачи с различными числами обусловленности \\( \\kappa \\) для каждой размерности.\n",
    "3. Запустим градиентный спуск на каждой задаче с фиксированным критерием остановки (например, достижение определенной точности) и измерим количество итераций \\( T(\\kappa, n) \\), необходимых для сходимости.\n",
    "4. Повторим шаги 2 и 3 несколько раз для каждого значения размерности \\( n \\).\n",
    "5. Построим графики зависимости количества итераций \\( T(\\kappa, n) \\) от числа обусловленности \\( \\kappa \\) для различных значений размерности \\( n \\).\n",
    "\n",
    "Давайте начнем с реализации этого эксперимента:\n",
    "\n"
   ]
  },
  {
   "cell_type": "code",
   "execution_count": null,
   "id": "6b4696bd",
   "metadata": {},
   "outputs": [],
   "source": [
    "import numpy as np\n",
    "import scipy.sparse\n",
    "from scipy.sparse import diags\n",
    "import matplotlib.pyplot as plt\n",
    "\n",
    "from oracles import QuadraticOracle\n",
    "from optimization import gradient_descent\n",
    "\n",
    "# Parameters\n",
    "dimensions = [10, 100, 1000]\n",
    "cond_numbers = np.logspace(0, 3, 10)  # Condition numbers ranging from 1 to 1000\n",
    "num_experiments = 5  # Number of experiments for each combination of n and kappa\n",
    "\n",
    "# Function to run experiments\n",
    "def run_experiments(dimensions, cond_numbers, num_experiments):\n",
    "    results = {}\n",
    "    for n in dimensions:\n",
    "        results[n] = []\n",
    "        for kappa in cond_numbers:\n",
    "            avg_iterations = 0\n",
    "            for _ in range(num_experiments):\n",
    "                # Generate random quadratic problem with given condition number\n",
    "                diag_values = np.random.uniform(1, kappa, n)\n",
    "                A = diags(diag_values)\n",
    "                b = np.random.randn(n)\n",
    "                oracle = QuadraticOracle(A, b)\n",
    "\n",
    "                # Run gradient descent\n",
    "                _, _, history = gradient_descent(oracle, np.zeros(n), tolerance=1e-6, max_iter=10000)\n",
    "\n",
    "                # Store the number of iterations\n",
    "                avg_iterations += len(history['func'])\n",
    "            avg_iterations /= num_experiments\n",
    "            results[n].append(avg_iterations)\n",
    "    return results\n",
    "\n",
    "# Run experiments\n",
    "results = run_experiments(dimensions, cond_numbers, num_experiments)\n",
    "\n",
    "# Plot results\n",
    "plt.figure(figsize=(10, 6))\n",
    "for n, iterations in results.items():\n",
    "    plt.plot(cond_numbers, iterations, marker='o', label=f'n={n}')\n",
    "\n",
    "plt.xscale('log')\n",
    "plt.xlabel('Condition Number κ')\n",
    "plt.ylabel('Average Iterations to Convergence')\n",
    "plt.title('Number of Iterations vs. Condition Number for Different Dimensions')\n",
    "plt.legend()\n",
    "plt.grid(True)\n",
    "plt.show()\n"
   ]
  },
  {
   "cell_type": "markdown",
   "id": "b253cc22",
   "metadata": {},
   "source": [
    "В этом коде мы сначала генерируем случайные квадратичные задачи для каждой комбинации размерности n и числа обусловленности κ. Затем мы запускаем градиентный спуск на каждой задаче несколько раз и усредняем количество итераций. Наконец, мы строим графики зависимости среднего количества итераций до сходимости от числа обусловленности κ для различных значений размерности n на логарифмической шкале для числа обусловленности. Это позволяет нам наглядно увидеть, как число итераций зависит от числа обусловленности при различных размерностях n.\n",
    "Как видно из графика, с увеличением числа обусловленности κ количество итераций, необходимых для сходимости градиентного спуска, также увеличивается. Это подтверждает теоретические представления о том, что задачи с большим числом обусловленности более трудно оптимизировать.\n",
    "\n",
    "Кроме того, видно, что для больших размерностей (n=1000) количество итераций выше, что указывает на то, что с увеличением размерности оптимизационная задача становится более сложной. Это может быть связано с увеличением числа параметров, которые необходимо оптимизировать, и усложнением геометрии оптимизационной поверхности.\n",
    "\n",
    "Таким образом, эксперимент позволяет сделать вывод о том, что и количество обусловленности κ и размерность пространства n влияют на эффективность градиентного спуска: более высокое значение κ и большая размерность приводят к увеличению числа итераций для достижения сходимости."
   ]
  }
 ],
 "metadata": {
  "kernelspec": {
   "display_name": "Python 3 (ipykernel)",
   "language": "python",
   "name": "python3"
  },
  "language_info": {
   "codemirror_mode": {
    "name": "ipython",
    "version": 3
   },
   "file_extension": ".py",
   "mimetype": "text/x-python",
   "name": "python",
   "nbconvert_exporter": "python",
   "pygments_lexer": "ipython3",
   "version": "3.9.6"
  }
 },
 "nbformat": 4,
 "nbformat_minor": 5
}
